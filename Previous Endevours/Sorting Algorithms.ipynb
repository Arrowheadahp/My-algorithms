{
 "cells": [
  {
   "cell_type": "code",
   "execution_count": 2,
   "metadata": {},
   "outputs": [],
   "source": [
    "from random import randint\n",
    "from time import time\n",
    "\n",
    "def sortcheck(Func):    #this function is to check if the sorting algorithm works or not\n",
    "    A = [randint(2,10**5) for _ in range(10**4)]\n",
    "    B = list (A)\n",
    "    #print 'The initial list is:\\n'\n",
    "    #print A\n",
    "    #print '\\n\\nThe sorted list from usermade function is: \\n'\n",
    "    s = time()\n",
    "    C = Func(A)\n",
    "    t = time() - s\n",
    "    #print C\n",
    "    #print '\\n\\nSorted List is:\\n'\n",
    "    D = sorted(B)\n",
    "    #print D\n",
    "    print 'The sorting works is',D==C\n",
    "    print '\\nTime taken is',t"
   ]
  },
  {
   "cell_type": "code",
   "execution_count": 15,
   "metadata": {},
   "outputs": [
    {
     "name": "stdout",
     "output_type": "stream",
     "text": [
      "The sorting works is True\n",
      "\n",
      "Time taken is 1.82399988174\n"
     ]
    }
   ],
   "source": [
    "# selection sort\n",
    "\n",
    "def selectionsort(L):\n",
    "    l = len(L)\n",
    "    for i in range(l-1):\n",
    "        mn, mi = 10**9, i+1\n",
    "        for j in range(i,l):\n",
    "            if L[j] < mn:\n",
    "                mn = L[j]\n",
    "                mi = j\n",
    "        L[i], L[mi] = L[mi], L[i]\n",
    "    return L\n",
    "\n",
    "sortcheck(selectionsort)"
   ]
  },
  {
   "cell_type": "code",
   "execution_count": 25,
   "metadata": {},
   "outputs": [
    {
     "name": "stdout",
     "output_type": "stream",
     "text": [
      "The sorting works is True\n",
      "\n",
      "Time taken is 3.0640001297\n"
     ]
    }
   ],
   "source": [
    "# Insertion Sort\n",
    "\n",
    "def insertionsort(L):\n",
    "    l = len(L)\n",
    "    for i in range(1,l):\n",
    "        j = i\n",
    "        k = L[i]\n",
    "        while j>0 and L[j-1]>k:\n",
    "            L[j] = L[j-1]\n",
    "            j -= 1\n",
    "        L[j]=k\n",
    "    return L\n",
    "\n",
    "sortcheck(insertionsort)"
   ]
  },
  {
   "cell_type": "code",
   "execution_count": 17,
   "metadata": {},
   "outputs": [
    {
     "name": "stdout",
     "output_type": "stream",
     "text": [
      "The sorting works is True\n",
      "\n",
      "Time taken is 5.87199997902\n"
     ]
    }
   ],
   "source": [
    "# bubble sort\n",
    "\n",
    "def bubblesort(L):\n",
    "    l = len(L)\n",
    "    for i in range(l-1):\n",
    "        for j in range(l-i-1):\n",
    "            if L[j] > L[j+1]:\n",
    "                L[j], L[j+1] = L[j+1], L[j]\n",
    "    return L\n",
    "\n",
    "sortcheck(bubblesort)\n",
    "                "
   ]
  },
  {
   "cell_type": "code",
   "execution_count": 18,
   "metadata": {},
   "outputs": [
    {
     "name": "stdout",
     "output_type": "stream",
     "text": [
      "The sorting works is True\n",
      "\n",
      "Time taken is 0.0380001068115\n"
     ]
    }
   ],
   "source": [
    "# Merge Sort\n",
    "\n",
    "def mergesort(L):\n",
    "    l = len(L)\n",
    "    if l <= 1:\n",
    "        return L\n",
    "    \n",
    "    A = mergesort(L[:l/2])\n",
    "    B = mergesort(L[l/2:])\n",
    "    S = []\n",
    "    \n",
    "    a, b = 0, 0\n",
    "    while a<len(A) and b<len(B):\n",
    "        if A[a] <= B[b]:\n",
    "            S.append(A[a])\n",
    "            a += 1\n",
    "        else:\n",
    "            S.append(B[b])\n",
    "            b += 1\n",
    "    S += A[a:] + B[b:]\n",
    "    return S\n",
    "\n",
    "sortcheck(mergesort)"
   ]
  },
  {
   "cell_type": "code",
   "execution_count": 26,
   "metadata": {},
   "outputs": [
    {
     "name": "stdout",
     "output_type": "stream",
     "text": [
      "The sorting works is True\n",
      "\n",
      "Time taken is 0.0380001068115\n"
     ]
    }
   ],
   "source": [
    "# Merge Sort with Insertion SOrt\n",
    "\n",
    "def mergeinsertionsort(L):\n",
    "    l = len(L)\n",
    "    if l <= 32:\n",
    "        return insertionsort(L)\n",
    "    \n",
    "    A = mergesort(L[:l/2])\n",
    "    B = mergesort(L[l/2:])\n",
    "    S = []\n",
    "    \n",
    "    a, b = 0, 0\n",
    "    while a<len(A) and b<len(B):\n",
    "        if A[a] <= B[b]:\n",
    "            S.append(A[a])\n",
    "            a += 1\n",
    "        else:\n",
    "            S.append(B[b])\n",
    "            b += 1\n",
    "    S += A[a:] + B[b:]\n",
    "    return S\n",
    "\n",
    "sortcheck(mergeinsertionsort)"
   ]
  },
  {
   "cell_type": "code",
   "execution_count": 20,
   "metadata": {
    "scrolled": true
   },
   "outputs": [
    {
     "name": "stdout",
     "output_type": "stream",
     "text": [
      "The sorting works is True\n",
      "\n",
      "Time taken is 0.0209999084473\n"
     ]
    }
   ],
   "source": [
    "# Quick Sort\n",
    "\n",
    "from random import choice\n",
    "def quicksort1(L):\n",
    "    if len(L) <= 1:\n",
    "        return L\n",
    "    k = choice(L)\n",
    "    A, B, C = [], [], []\n",
    "    for i in L:\n",
    "        if i < k:\n",
    "            A.append(i)\n",
    "        elif i == k:\n",
    "            B.append(i)\n",
    "        elif i > k:\n",
    "            C.append(i)\n",
    "    return quicksort1(A) + B + quicksort1(C)\n",
    "\n",
    "\n",
    "sortcheck(quicksort1)"
   ]
  },
  {
   "cell_type": "code",
   "execution_count": 21,
   "metadata": {},
   "outputs": [
    {
     "name": "stdout",
     "output_type": "stream",
     "text": [
      "The sorting works is True\n",
      "\n",
      "Time taken is 0.0209999084473\n"
     ]
    }
   ],
   "source": [
    "# In Place Quick Sort\n",
    "\n",
    "def quicksort(L, start = 0, end = None):\n",
    "    if end == None:\n",
    "        end = len(L)\n",
    "    if end - start <= 1:\n",
    "        return\n",
    "    #print L[start: end]\n",
    "    a, b = start+1, start+1\n",
    "    k = L[start]\n",
    "    while b < end:\n",
    "        if L[b] < k:\n",
    "            L[a], L[b] = L[b], L[a]\n",
    "            a += 1\n",
    "        b += 1\n",
    "    L[start], L[a-1] = L[a-1], L[start]\n",
    "    a -= 1\n",
    "    quicksort (L, start, a)\n",
    "    quicksort (L, a+1, end)\n",
    "    return L\n",
    "    \n",
    "sortcheck(quicksort)\n"
   ]
  },
  {
   "cell_type": "code",
   "execution_count": 9,
   "metadata": {},
   "outputs": [
    {
     "name": "stdout",
     "output_type": "stream",
     "text": [
      "The sorting works is True\n",
      "\n",
      "Time taken is 0.0539999008179\n"
     ]
    }
   ],
   "source": [
    "# Counting Sort\n",
    "# advantageous iff len(L)*log(len(L)) > max(L)\n",
    "from collections import Counter\n",
    "\n",
    "def countingsort(L):\n",
    "    C = Counter(L)\n",
    "    S = []\n",
    "    \n",
    "    for i in range(min(L), max(L)+1):\n",
    "        S += [i for _ in range(C[i])]\n",
    "    \n",
    "    return S\n",
    "\n",
    "sortcheck(countingsort)"
   ]
  },
  {
   "cell_type": "code",
   "execution_count": 13,
   "metadata": {},
   "outputs": [
    {
     "name": "stdout",
     "output_type": "stream",
     "text": [
      "The sorting works is True\n",
      "\n",
      "Time taken is 0.0169999599457\n"
     ]
    }
   ],
   "source": [
    "# Radix sort\n",
    "\n",
    "def radixsort(L, l = 100):\n",
    "    x = 0\n",
    "    m = max(L)\n",
    "    while l**(x-1)<m:\n",
    "        C = [[] for i in range(l)]\n",
    "        for i in L:\n",
    "            j = i/(l**x)\n",
    "            C[j%l].append(i)\n",
    "        L = list([])\n",
    "        for i in C:\n",
    "            L += i\n",
    "        x += 1\n",
    "    return L\n",
    "\n",
    "sortcheck(radixsort)"
   ]
  }
 ],
 "metadata": {
  "kernelspec": {
   "display_name": "Python 2",
   "language": "python",
   "name": "python2"
  },
  "language_info": {
   "codemirror_mode": {
    "name": "ipython",
    "version": 2
   },
   "file_extension": ".py",
   "mimetype": "text/x-python",
   "name": "python",
   "nbconvert_exporter": "python",
   "pygments_lexer": "ipython2",
   "version": "2.7.16"
  }
 },
 "nbformat": 4,
 "nbformat_minor": 2
}
