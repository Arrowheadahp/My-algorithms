{
 "cells": [
  {
   "cell_type": "code",
   "execution_count": 1,
   "metadata": {},
   "outputs": [],
   "source": [
    "from random import randint\n",
    "\n",
    "def sortcheck(Func):    #this function is to check if the sorting algorithm works or not\n",
    "    A = [randint(2,1000) for _ in range(100)]\n",
    "    B = list (A)\n",
    "    print 'The initial list is:\\n'\n",
    "    print A\n",
    "    print '\\n\\nThe sorted list from usermade function is: \\n'\n",
    "    C = Func(A)\n",
    "    print C\n",
    "    print '\\n\\nThe sorting sorks is',sorted(B)==C"
   ]
  },
  {
   "cell_type": "code",
   "execution_count": 2,
   "metadata": {},
   "outputs": [
    {
     "name": "stdout",
     "output_type": "stream",
     "text": [
      "The initial list is:\n",
      "\n",
      "[376, 946, 630, 330, 279, 430, 749, 595, 817, 260, 549, 972, 319, 543, 390, 941, 734, 966, 763, 312, 488, 174, 675, 746, 286, 377, 161, 402, 927, 391, 988, 276, 866, 379, 147, 777, 556, 765, 495, 850, 151, 322, 713, 593, 242, 325, 531, 549, 571, 172, 169, 697, 714, 859, 927, 297, 962, 271, 605, 765, 529, 43, 870, 634, 715, 116, 382, 186, 108, 98, 409, 895, 475, 440, 506, 955, 255, 796, 709, 380, 480, 84, 476, 102, 84, 340, 64, 513, 217, 585, 753, 161, 329, 15, 555, 239, 580, 919, 450, 647]\n",
      "\n",
      "\n",
      "The sorted list from usermade function is: \n",
      "\n",
      "[15, 43, 64, 84, 84, 98, 102, 108, 116, 147, 151, 161, 161, 169, 172, 174, 186, 217, 239, 242, 255, 260, 271, 276, 279, 286, 297, 312, 319, 322, 325, 329, 330, 340, 376, 377, 379, 380, 382, 390, 391, 402, 409, 430, 440, 450, 475, 476, 480, 488, 495, 506, 513, 529, 531, 543, 549, 549, 555, 556, 571, 580, 585, 593, 595, 605, 630, 634, 647, 675, 697, 709, 713, 714, 715, 734, 746, 749, 753, 763, 765, 765, 777, 796, 817, 850, 859, 866, 870, 895, 919, 927, 927, 941, 946, 955, 962, 966, 972, 988]\n",
      "\n",
      "\n",
      "The sorting sorks is True\n"
     ]
    }
   ],
   "source": [
    "# Insertion Sort\n",
    "\n",
    "def insertionsort(L):\n",
    "    for i in range(1,len(L)):\n",
    "        j = i\n",
    "        k = L[i]\n",
    "        while j>0 and L[j-1]>k:\n",
    "            L[j] = L[j-1]\n",
    "            j -= 1\n",
    "        L[j]=k\n",
    "    return L\n",
    "\n",
    "sortcheck(insertionsort)"
   ]
  },
  {
   "cell_type": "code",
   "execution_count": 5,
   "metadata": {},
   "outputs": [
    {
     "name": "stdout",
     "output_type": "stream",
     "text": [
      "The initial list is:\n",
      "\n",
      "[179, 693, 38, 760, 482, 805, 306, 286, 786, 745, 513, 627, 536, 607, 148, 457, 16, 301, 436, 679, 206, 128, 113, 598, 432, 376, 5, 692, 416, 130, 79, 492, 20, 502, 908, 837, 716, 576, 978, 714, 772, 687, 414, 309, 136, 92, 633, 842, 163, 962, 875, 421, 891, 836, 784, 986, 601, 189, 905, 143, 847, 18, 893, 549, 174, 594, 757, 77, 553, 737, 873, 47, 701, 221, 463, 899, 637, 26, 948, 642, 770, 576, 207, 518, 560, 668, 999, 476, 662, 623, 922, 498, 378, 811, 498, 885, 984, 656, 435, 360]\n",
      "\n",
      "\n",
      "The sorted list from usermade function is: \n",
      "\n",
      "[5, 16, 18, 20, 26, 38, 47, 77, 79, 92, 113, 128, 130, 136, 143, 148, 163, 174, 179, 189, 206, 207, 221, 286, 301, 306, 309, 360, 376, 378, 414, 416, 421, 432, 435, 436, 457, 463, 476, 482, 492, 498, 498, 502, 513, 518, 536, 549, 553, 560, 576, 576, 594, 598, 601, 607, 623, 627, 633, 637, 642, 656, 662, 668, 679, 687, 692, 693, 701, 714, 716, 737, 745, 757, 760, 770, 772, 784, 786, 805, 811, 836, 837, 842, 847, 873, 875, 885, 891, 893, 899, 905, 908, 922, 948, 962, 978, 984, 986, 999]\n",
      "\n",
      "\n",
      "The sorting sorks is True\n"
     ]
    }
   ],
   "source": [
    "# bubble sort\n",
    "\n",
    "def bubblesort(L):\n",
    "    l = len(L)\n",
    "    for i in range(l-1):\n",
    "        for j in range(l-i-1):\n",
    "            if L[j] > L[j+1]:\n",
    "                L[j], L[j+1] = L[j+1], L[j]\n",
    "    return L\n",
    "\n",
    "sortcheck(bubblesort)\n",
    "                "
   ]
  },
  {
   "cell_type": "code",
   "execution_count": 3,
   "metadata": {},
   "outputs": [
    {
     "name": "stdout",
     "output_type": "stream",
     "text": [
      "The initial list is:\n",
      "\n",
      "[987, 575, 342, 460, 401, 968, 840, 767, 543, 160, 966, 369, 63, 461, 501, 12, 611, 301, 686, 184, 613, 862, 532, 578, 163, 860, 623, 281, 876, 293, 796, 360, 344, 43, 271, 713, 814, 498, 584, 337, 897, 923, 110, 787, 125, 649, 167, 921, 51, 624, 258, 590, 625, 657, 892, 695, 25, 197, 828, 11, 995, 2, 239, 261, 892, 276, 332, 912, 343, 12, 280, 640, 629, 663, 354, 777, 463, 87, 852, 267, 601, 754, 640, 201, 905, 463, 474, 817, 816, 650, 860, 711, 245, 109, 938, 285, 703, 409, 795, 980]\n",
      "\n",
      "\n",
      "The sorted list from usermade function is: \n",
      "\n",
      "[2, 11, 12, 12, 25, 43, 51, 63, 87, 109, 110, 125, 160, 163, 167, 184, 197, 201, 239, 245, 258, 261, 267, 271, 276, 280, 281, 285, 293, 301, 332, 337, 342, 343, 344, 354, 360, 369, 401, 409, 460, 461, 463, 463, 474, 498, 501, 532, 543, 575, 578, 584, 590, 601, 611, 613, 623, 624, 625, 629, 640, 640, 649, 650, 657, 663, 686, 695, 703, 711, 713, 754, 767, 777, 787, 795, 796, 814, 816, 817, 828, 840, 852, 860, 860, 862, 876, 892, 892, 897, 905, 912, 921, 923, 938, 966, 968, 980, 987, 995]\n",
      "\n",
      "\n",
      "The sorting sorks is True\n"
     ]
    }
   ],
   "source": [
    "# Merge Sort\n",
    "\n",
    "def mergesort(L):\n",
    "    l = len(L)\n",
    "    if l == 1:\n",
    "        return L\n",
    "    \n",
    "    A = mergesort(L[:l/2])\n",
    "    B = mergesort(L[l/2:])\n",
    "    S = []\n",
    "    \n",
    "    a, b = 0, 0\n",
    "    while a<len(A) and b<len(B):\n",
    "        if A[a] < B[b]:\n",
    "            S.append(A[a])\n",
    "            a += 1\n",
    "        else:\n",
    "            S.append(B[b])\n",
    "            b += 1\n",
    "    S += A[a:] + B[b:]\n",
    "    return S\n",
    "\n",
    "sortcheck(mergesort)"
   ]
  },
  {
   "cell_type": "code",
   "execution_count": null,
   "metadata": {},
   "outputs": [],
   "source": []
  }
 ],
 "metadata": {
  "kernelspec": {
   "display_name": "Python 2",
   "language": "python",
   "name": "python2"
  },
  "language_info": {
   "codemirror_mode": {
    "name": "ipython",
    "version": 2
   },
   "file_extension": ".py",
   "mimetype": "text/x-python",
   "name": "python",
   "nbconvert_exporter": "python",
   "pygments_lexer": "ipython2",
   "version": "2.7.16"
  }
 },
 "nbformat": 4,
 "nbformat_minor": 2
}
