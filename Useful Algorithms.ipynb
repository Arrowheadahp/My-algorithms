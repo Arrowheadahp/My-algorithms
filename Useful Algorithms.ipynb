{
 "cells": [
  {
   "cell_type": "code",
   "execution_count": 2,
   "metadata": {},
   "outputs": [
    {
     "name": "stdout",
     "output_type": "stream",
     "text": [
      "True\n"
     ]
    }
   ],
   "source": [
    "# Modular Exponentiation\n",
    "\n",
    "def modexp(a,b,c):\n",
    "    # calculating a**b%c\n",
    "    \n",
    "    res = 1\n",
    "    i=0\n",
    "    while b>0:\n",
    "        bit = b%2\n",
    "        b = b/2\n",
    "        res = (res * a**bit) % c\n",
    "        a = (a*a)%c\n",
    "        \n",
    "    return res\n",
    "\n",
    "for i in range(1,10):\n",
    "    for j in range(10):\n",
    "        c = i**j\n",
    "        for k in range(10,30):\n",
    "            if modexp(i,j,k) != c%k:\n",
    "                print ('False')\n",
    "print ('True')\n",
    "            \n",
    "        "
   ]
  },
  {
   "cell_type": "code",
   "execution_count": 9,
   "metadata": {},
   "outputs": [
    {
     "data": {
      "text/plain": [
       "(-2, 3)"
      ]
     },
     "execution_count": 9,
     "metadata": {},
     "output_type": "execute_result"
    }
   ],
   "source": [
    "# Extended Eucleid's Algorithm\n",
    "\n",
    "def exteucleid(a, b):\n",
    "    if b == 0:\n",
    "        return (1,0)\n",
    "    else:\n",
    "        m, n = exteucleid(b,a%b)\n",
    "        x = n\n",
    "        y = m - a/b*x\n",
    "        return (x,y)\n",
    "    \n",
    "\n",
    "exteucleid(35,25)"
   ]
  },
  {
   "cell_type": "code",
   "execution_count": null,
   "metadata": {},
   "outputs": [],
   "source": []
  }
 ],
 "metadata": {
  "kernelspec": {
   "display_name": "Python 3",
   "language": "python",
   "name": "python3"
  },
  "language_info": {
   "codemirror_mode": {
    "name": "ipython",
    "version": 3
   },
   "file_extension": ".py",
   "mimetype": "text/x-python",
   "name": "python",
   "nbconvert_exporter": "python",
   "pygments_lexer": "ipython3",
   "version": "3.7.4"
  }
 },
 "nbformat": 4,
 "nbformat_minor": 2
}
